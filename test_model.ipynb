{
 "cells": [
  {
   "cell_type": "code",
   "execution_count": null,
   "metadata": {},
   "outputs": [],
   "source": [
    "import glob\n",
    "import os\n",
    "import subprocess"
   ]
  },
  {
   "cell_type": "code",
   "execution_count": null,
   "metadata": {},
   "outputs": [],
   "source": [
    "def test_model(lang_pairs:list, test_data:str, tc:str, tc_m:str, sp:str, sp_m:str, tr_m:str, out:str):\n",
    "    \"\"\"\n",
    "    Evaluate model on wmt data\n",
    "    \n",
    "    Args:\n",
    "        lang_pairs: language direction for testing\n",
    "        test_data: root for temp dir \n",
    "        tc: path to trucaser\n",
    "        tc_m: path to trucaser model\n",
    "        sp: path to sentencepiece\n",
    "        sp_m: path to sentencepiece model\n",
    "        tr_m: path to translation model\n",
    "        out: path to the output\n",
    "        \n",
    "    \"\"\"\n",
    "    cd = os.getcwd()\n",
    "    data_path = os.path.abspath(test_data)\n",
    "    if not os.path.exists(out):\n",
    "        os.makedirs(out)\n",
    "    for src_lang, tgt_lang in lang_pairs:\n",
    "        pair = r\"{}-{}\".format(src_lang, tgt_lang) \n",
    "        tmp = os.path.join(data_path, f\"tmp-{pair}\")\n",
    "        if not os.path.exists(tmp):\n",
    "            os.makedirs(tmp)\n",
    "        else:\n",
    "            files = glob.glob(f'{tmp}/*')\n",
    "            for f in files:\n",
    "                try:\n",
    "                    os.unlink(f)\n",
    "                except OSError as e:\n",
    "                    print(\"Error: %s : %s\" % (f, e.strerror))\n",
    "        inp_path = os.path.join(tmp,  f'{pair}.src')\n",
    "        !sacrebleu -t wmt18 --language {pair} --echo src > {inp_path}\n",
    "        tc_path = os.path.join(cd, tc)\n",
    "        tcm_path = os.path.join(cd, tc_m)\n",
    "        tc_out = os.path.join(tmp, \"tc.out\")\n",
    "        !python {tc_path} {tcm_path} {inp_path} > {tc_out}\n",
    "        !python {sp} --action split  --model {sp_m} --corpora {tc_out}\n",
    "        tags = os.path.join(tmp, pair + '.tag')\n",
    "        sp_name = os.path.basename(sp_m)\n",
    "        sp_out = os.path.join(tmp, sp_name + '-tc.out')\n",
    "        with open(sp_out, 'r') as _input, open(tags, 'w') as output:\n",
    "                for line in _input:\n",
    "                        l = len(line.split())\n",
    "                        output.write(f\"{' '.join([tgt_lang] * l)}\\n\")\n",
    "        tr_out = os.path.join(tmp, f\"{pair}.out\")\n",
    "        !python -m sockeye.translate --quiet --use-cpu --models {tr_m} --input-factors {tags} --input {sp_out} --output {tr_out}\n",
    "        !python {sp} --action restore --corpora {tr_out} --model {sp_m}\n",
    "        res_path = os.path.join(tmp, f'de-{sp_name}-{os.path.basename(tr_out)}')\n",
    "        output = os.path.join(cd, out, f'wmt18-{pair}.res')\n",
    "        !cat {res_path} | sacrebleu -t wmt18 -l {pair} > {output}\n",
    "        print(open(output).read())"
   ]
  },
  {
   "cell_type": "code",
   "execution_count": null,
   "metadata": {},
   "outputs": [],
   "source": [
    "test_model([('en','ru')],\n",
    "           'nmt/data/input',\n",
    "           'nmt/scripts/truecaser/applytc.py',\n",
    "           'nmt/models/preproc-models/tc-en',\n",
    "           'nmt/scripts/word-pieces.py',\n",
    "           'nmt/models/preproc-models/sp-enru',\n",
    "           'nmt/models/trilang_0',\n",
    "           'nmt/data/input/out')"
   ]
  }
 ],
 "metadata": {
  "kernelspec": {
   "display_name": "Python 3",
   "language": "python",
   "name": "python3"
  },
  "language_info": {
   "codemirror_mode": {
    "name": "ipython",
    "version": 3
   },
   "file_extension": ".py",
   "mimetype": "text/x-python",
   "name": "python",
   "nbconvert_exporter": "python",
   "pygments_lexer": "ipython3",
   "version": "3.7.3"
  }
 },
 "nbformat": 4,
 "nbformat_minor": 4
}
